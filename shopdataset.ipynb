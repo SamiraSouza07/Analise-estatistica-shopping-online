{
 "cells": [
  {
   "cell_type": "code",
   "execution_count": 3,
   "metadata": {},
   "outputs": [
    {
     "data": {
      "text/plain": [
       "Unnamed: 0               0\n",
       "CustomerID              31\n",
       "Gender                  31\n",
       "Location                31\n",
       "Tenure_Months           31\n",
       "Transaction_ID          31\n",
       "Transaction_Date        31\n",
       "Product_SKU             31\n",
       "Product_Description     31\n",
       "Product_Category         0\n",
       "Quantity                31\n",
       "Avg_Price               31\n",
       "Delivery_Charges        31\n",
       "Coupon_Status           31\n",
       "GST                     31\n",
       "Date                    31\n",
       "Offline_Spend           31\n",
       "Online_Spend            31\n",
       "Month                    0\n",
       "Coupon_Code            400\n",
       "Discount_pct           400\n",
       "dtype: int64"
      ]
     },
     "metadata": {},
     "output_type": "display_data"
    }
   ],
   "source": [
    "import pandas as pd\n",
    "shopdataset = pd.read_excel('./basededados.xlsx')\n",
    "# Removendo os valores null\n",
    "display(shopdataset.isnull().sum())\n"
   ]
  }
 ],
 "metadata": {
  "kernelspec": {
   "display_name": "Python 3",
   "language": "python",
   "name": "python3"
  },
  "language_info": {
   "codemirror_mode": {
    "name": "ipython",
    "version": 3
   },
   "file_extension": ".py",
   "mimetype": "text/x-python",
   "name": "python",
   "nbconvert_exporter": "python",
   "pygments_lexer": "ipython3",
   "version": "3.12.1"
  }
 },
 "nbformat": 4,
 "nbformat_minor": 2
}
