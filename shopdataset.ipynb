{
 "cells": [
  {
   "cell_type": "code",
   "execution_count": 15,
   "metadata": {},
   "outputs": [],
   "source": [
    "import pandas as pd\n",
    "shopdataset_comNull = pd.read_excel('./basededados.xlsx')\n",
    "# Removendo os valores null\n",
    "shopdataset = shopdataset_comNull.dropna()\n",
    "\n"
   ]
  },
  {
   "cell_type": "code",
   "execution_count": 16,
   "metadata": {},
   "outputs": [
    {
     "name": "stdout",
     "output_type": "stream",
     "text": [
      "Unnamed: 0             0\n",
      "CustomerID             0\n",
      "Gender                 0\n",
      "Location               0\n",
      "Tenure_Months          0\n",
      "Transaction_ID         0\n",
      "Transaction_Date       0\n",
      "Product_SKU            0\n",
      "Product_Description    0\n",
      "Product_Category       0\n",
      "Quantity               0\n",
      "Avg_Price              0\n",
      "Delivery_Charges       0\n",
      "Coupon_Status          0\n",
      "GST                    0\n",
      "Date                   0\n",
      "Offline_Spend          0\n",
      "Online_Spend           0\n",
      "Month                  0\n",
      "Coupon_Code            0\n",
      "Discount_pct           0\n",
      "dtype: int64\n"
     ]
    }
   ],
   "source": [
    "print(shopdataset.isnull().sum())"
   ]
  },
  {
   "cell_type": "code",
   "execution_count": 17,
   "metadata": {},
   "outputs": [
    {
     "name": "stdout",
     "output_type": "stream",
     "text": [
      "Unnamed: 0             52524\n",
      "CustomerID             52524\n",
      "Gender                 52524\n",
      "Location               52524\n",
      "Tenure_Months          52524\n",
      "Transaction_ID         52524\n",
      "Transaction_Date       52524\n",
      "Product_SKU            52524\n",
      "Product_Description    52524\n",
      "Product_Category       52524\n",
      "Quantity               52524\n",
      "Avg_Price              52524\n",
      "Delivery_Charges       52524\n",
      "Coupon_Status          52524\n",
      "GST                    52524\n",
      "Date                   52524\n",
      "Offline_Spend          52524\n",
      "Online_Spend           52524\n",
      "Month                  52524\n",
      "Coupon_Code            52524\n",
      "Discount_pct           52524\n",
      "dtype: int64\n"
     ]
    }
   ],
   "source": [
    "print(shopdataset.notnull().sum())"
   ]
  }
 ],
 "metadata": {
  "kernelspec": {
   "display_name": "Python 3",
   "language": "python",
   "name": "python3"
  },
  "language_info": {
   "codemirror_mode": {
    "name": "ipython",
    "version": 3
   },
   "file_extension": ".py",
   "mimetype": "text/x-python",
   "name": "python",
   "nbconvert_exporter": "python",
   "pygments_lexer": "ipython3",
   "version": "3.12.1"
  }
 },
 "nbformat": 4,
 "nbformat_minor": 2
}
